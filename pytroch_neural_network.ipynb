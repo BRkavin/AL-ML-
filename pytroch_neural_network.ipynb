{
  "nbformat": 4,
  "nbformat_minor": 0,
  "metadata": {
    "colab": {
      "provenance": [],
      "authorship_tag": "ABX9TyPyNUt4azr8XMxCyGHMeKj3",
      "include_colab_link": true
    },
    "kernelspec": {
      "name": "python3",
      "display_name": "Python 3"
    },
    "language_info": {
      "name": "python"
    }
  },
  "cells": [
    {
      "cell_type": "markdown",
      "metadata": {
        "id": "view-in-github",
        "colab_type": "text"
      },
      "source": [
        "<a href=\"https://colab.research.google.com/github/BRkavin/AL-ML-/blob/main/pytroch_neural_network.ipynb\" target=\"_parent\"><img src=\"https://colab.research.google.com/assets/colab-badge.svg\" alt=\"Open In Colab\"/></a>"
      ]
    },
    {
      "cell_type": "code",
      "execution_count": null,
      "metadata": {
        "id": "W_U4wGoyYyti"
      },
      "outputs": [],
      "source": [
        "import torch\n",
        "import torchvision.datasets as datasets\n",
        "import torchvision.transforms as transforms\n",
        "import torch.nn as nn\n",
        "import torch.optim as optim"
      ]
    },
    {
      "cell_type": "code",
      "source": [
        "transform =  transforms.Compose([transforms.ToTensor(),transforms.Normalize((0.1307,),(0.3081,))])"
      ],
      "metadata": {
        "id": "9m9-FYquZC37"
      },
      "execution_count": null,
      "outputs": []
    },
    {
      "cell_type": "code",
      "source": [
        "train_dataset =datasets.MNIST('data',train=True,download=True,transform=transform)"
      ],
      "metadata": {
        "colab": {
          "base_uri": "https://localhost:8080/"
        },
        "id": "81gV3VsIcVoP",
        "outputId": "821ce280-8a88-4367-b60e-02a973df9e38"
      },
      "execution_count": null,
      "outputs": [
        {
          "output_type": "stream",
          "name": "stdout",
          "text": [
            "Downloading http://yann.lecun.com/exdb/mnist/train-images-idx3-ubyte.gz\n",
            "Downloading http://yann.lecun.com/exdb/mnist/train-images-idx3-ubyte.gz to data/MNIST/raw/train-images-idx3-ubyte.gz\n"
          ]
        },
        {
          "output_type": "stream",
          "name": "stderr",
          "text": [
            "100%|██████████| 9912422/9912422 [00:00<00:00, 92201763.16it/s]\n"
          ]
        },
        {
          "output_type": "stream",
          "name": "stdout",
          "text": [
            "Extracting data/MNIST/raw/train-images-idx3-ubyte.gz to data/MNIST/raw\n",
            "\n",
            "Downloading http://yann.lecun.com/exdb/mnist/train-labels-idx1-ubyte.gz\n",
            "Downloading http://yann.lecun.com/exdb/mnist/train-labels-idx1-ubyte.gz to data/MNIST/raw/train-labels-idx1-ubyte.gz\n"
          ]
        },
        {
          "output_type": "stream",
          "name": "stderr",
          "text": [
            "100%|██████████| 28881/28881 [00:00<00:00, 68944618.00it/s]\n"
          ]
        },
        {
          "output_type": "stream",
          "name": "stdout",
          "text": [
            "Extracting data/MNIST/raw/train-labels-idx1-ubyte.gz to data/MNIST/raw\n",
            "\n",
            "Downloading http://yann.lecun.com/exdb/mnist/t10k-images-idx3-ubyte.gz\n",
            "Downloading http://yann.lecun.com/exdb/mnist/t10k-images-idx3-ubyte.gz to data/MNIST/raw/t10k-images-idx3-ubyte.gz\n"
          ]
        },
        {
          "output_type": "stream",
          "name": "stderr",
          "text": [
            "100%|██████████| 1648877/1648877 [00:00<00:00, 33363523.37it/s]\n"
          ]
        },
        {
          "output_type": "stream",
          "name": "stdout",
          "text": [
            "Extracting data/MNIST/raw/t10k-images-idx3-ubyte.gz to data/MNIST/raw\n",
            "\n",
            "Downloading http://yann.lecun.com/exdb/mnist/t10k-labels-idx1-ubyte.gz\n",
            "Downloading http://yann.lecun.com/exdb/mnist/t10k-labels-idx1-ubyte.gz to data/MNIST/raw/t10k-labels-idx1-ubyte.gz\n"
          ]
        },
        {
          "output_type": "stream",
          "name": "stderr",
          "text": [
            "100%|██████████| 4542/4542 [00:00<00:00, 13656293.02it/s]\n"
          ]
        },
        {
          "output_type": "stream",
          "name": "stdout",
          "text": [
            "Extracting data/MNIST/raw/t10k-labels-idx1-ubyte.gz to data/MNIST/raw\n",
            "\n"
          ]
        }
      ]
    },
    {
      "cell_type": "code",
      "source": [
        "train_loader =torch.utils.data.DataLoader(train_dataset,batch_size=64,shuffle=True)"
      ],
      "metadata": {
        "id": "bAp9cC4iclre"
      },
      "execution_count": null,
      "outputs": []
    },
    {
      "cell_type": "code",
      "source": [
        "\n",
        "class Neural(nn.Module):\n",
        "  def __init__(self):\n",
        "    super(Neural,self).__init__()\n",
        "    self.fc1=nn.Linear(28*28,128)\n",
        "    self.fc2=nn.Linear(128,10)\n",
        "  def forward(self,x):\n",
        "    x=x.view(-1,28*28)\n",
        "    x=torch.relu(self.fc1(x))\n",
        "    x=self.fc2(x)\n",
        "    return x\n",
        "net=Neural()"
      ],
      "metadata": {
        "id": "aIfs4RdedECc"
      },
      "execution_count": 8,
      "outputs": []
    },
    {
      "cell_type": "code",
      "source": [
        "\n",
        "criterion=nn.CrossEntropyLoss()\n",
        "optimizer=optim.SGD(net.parameters(),lr=0.01,momentum=0.5)\n"
      ],
      "metadata": {
        "id": "5_F7P6S92SJO"
      },
      "execution_count": 9,
      "outputs": []
    },
    {
      "cell_type": "code",
      "source": [
        "num_epochs=10\n",
        "for epoch in range(num_epochs):\n",
        "  for batch_idx,(data,target) in enumerate (train_loader):\n",
        "    optimizer.zero_grad()\n",
        "    output=net(data)\n",
        "    loss =criterion(output,target)\n",
        "    loss.backward()\n",
        "    optimizer.step()\n",
        "    if batch_idx % 100==0:\n",
        "      print('Train Epoch: {} [{}/{} ({:.0f}%)]\\tLoss: {:.6f}'.format(\n",
        "                epoch, batch_idx * len(data), len(train_loader.dataset),\n",
        "                100. * batch_idx / len(train_loader), loss.item()))"
      ],
      "metadata": {
        "colab": {
          "base_uri": "https://localhost:8080/"
        },
        "id": "eafWp3fq2SuE",
        "outputId": "6df57ec0-5b77-4bb5-e90b-dd6848112ea9"
      },
      "execution_count": 10,
      "outputs": [
        {
          "output_type": "stream",
          "name": "stdout",
          "text": [
            "Train Epoch: 0 [0/60000 (0%)]\tLoss: 2.272868\n",
            "Train Epoch: 0 [6400/60000 (11%)]\tLoss: 0.724151\n",
            "Train Epoch: 0 [12800/60000 (21%)]\tLoss: 0.508933\n",
            "Train Epoch: 0 [19200/60000 (32%)]\tLoss: 0.624154\n",
            "Train Epoch: 0 [25600/60000 (43%)]\tLoss: 0.400367\n",
            "Train Epoch: 0 [32000/60000 (53%)]\tLoss: 0.461174\n",
            "Train Epoch: 0 [38400/60000 (64%)]\tLoss: 0.244707\n",
            "Train Epoch: 0 [44800/60000 (75%)]\tLoss: 0.320406\n",
            "Train Epoch: 0 [51200/60000 (85%)]\tLoss: 0.482047\n",
            "Train Epoch: 0 [57600/60000 (96%)]\tLoss: 0.264825\n",
            "Train Epoch: 1 [0/60000 (0%)]\tLoss: 0.226457\n",
            "Train Epoch: 1 [6400/60000 (11%)]\tLoss: 0.177138\n",
            "Train Epoch: 1 [12800/60000 (21%)]\tLoss: 0.254913\n",
            "Train Epoch: 1 [19200/60000 (32%)]\tLoss: 0.199312\n",
            "Train Epoch: 1 [25600/60000 (43%)]\tLoss: 0.206945\n",
            "Train Epoch: 1 [32000/60000 (53%)]\tLoss: 0.327600\n",
            "Train Epoch: 1 [38400/60000 (64%)]\tLoss: 0.198278\n",
            "Train Epoch: 1 [44800/60000 (75%)]\tLoss: 0.236485\n",
            "Train Epoch: 1 [51200/60000 (85%)]\tLoss: 0.081997\n",
            "Train Epoch: 1 [57600/60000 (96%)]\tLoss: 0.249560\n",
            "Train Epoch: 2 [0/60000 (0%)]\tLoss: 0.479302\n",
            "Train Epoch: 2 [6400/60000 (11%)]\tLoss: 0.197260\n",
            "Train Epoch: 2 [12800/60000 (21%)]\tLoss: 0.101077\n",
            "Train Epoch: 2 [19200/60000 (32%)]\tLoss: 0.126020\n",
            "Train Epoch: 2 [25600/60000 (43%)]\tLoss: 0.162601\n",
            "Train Epoch: 2 [32000/60000 (53%)]\tLoss: 0.128608\n",
            "Train Epoch: 2 [38400/60000 (64%)]\tLoss: 0.103609\n",
            "Train Epoch: 2 [44800/60000 (75%)]\tLoss: 0.063070\n",
            "Train Epoch: 2 [51200/60000 (85%)]\tLoss: 0.176467\n",
            "Train Epoch: 2 [57600/60000 (96%)]\tLoss: 0.078249\n",
            "Train Epoch: 3 [0/60000 (0%)]\tLoss: 0.106364\n",
            "Train Epoch: 3 [6400/60000 (11%)]\tLoss: 0.207239\n",
            "Train Epoch: 3 [12800/60000 (21%)]\tLoss: 0.106342\n",
            "Train Epoch: 3 [19200/60000 (32%)]\tLoss: 0.077752\n",
            "Train Epoch: 3 [25600/60000 (43%)]\tLoss: 0.137455\n",
            "Train Epoch: 3 [32000/60000 (53%)]\tLoss: 0.094770\n",
            "Train Epoch: 3 [38400/60000 (64%)]\tLoss: 0.169881\n",
            "Train Epoch: 3 [44800/60000 (75%)]\tLoss: 0.306242\n",
            "Train Epoch: 3 [51200/60000 (85%)]\tLoss: 0.134633\n",
            "Train Epoch: 3 [57600/60000 (96%)]\tLoss: 0.310108\n",
            "Train Epoch: 4 [0/60000 (0%)]\tLoss: 0.304143\n",
            "Train Epoch: 4 [6400/60000 (11%)]\tLoss: 0.064346\n",
            "Train Epoch: 4 [12800/60000 (21%)]\tLoss: 0.201991\n",
            "Train Epoch: 4 [19200/60000 (32%)]\tLoss: 0.145361\n",
            "Train Epoch: 4 [25600/60000 (43%)]\tLoss: 0.082978\n",
            "Train Epoch: 4 [32000/60000 (53%)]\tLoss: 0.163962\n",
            "Train Epoch: 4 [38400/60000 (64%)]\tLoss: 0.152652\n",
            "Train Epoch: 4 [44800/60000 (75%)]\tLoss: 0.055113\n",
            "Train Epoch: 4 [51200/60000 (85%)]\tLoss: 0.139280\n",
            "Train Epoch: 4 [57600/60000 (96%)]\tLoss: 0.225648\n",
            "Train Epoch: 5 [0/60000 (0%)]\tLoss: 0.134739\n",
            "Train Epoch: 5 [6400/60000 (11%)]\tLoss: 0.073384\n",
            "Train Epoch: 5 [12800/60000 (21%)]\tLoss: 0.057421\n",
            "Train Epoch: 5 [19200/60000 (32%)]\tLoss: 0.079005\n",
            "Train Epoch: 5 [25600/60000 (43%)]\tLoss: 0.216371\n",
            "Train Epoch: 5 [32000/60000 (53%)]\tLoss: 0.098702\n",
            "Train Epoch: 5 [38400/60000 (64%)]\tLoss: 0.094951\n",
            "Train Epoch: 5 [44800/60000 (75%)]\tLoss: 0.045468\n",
            "Train Epoch: 5 [51200/60000 (85%)]\tLoss: 0.205231\n",
            "Train Epoch: 5 [57600/60000 (96%)]\tLoss: 0.213287\n",
            "Train Epoch: 6 [0/60000 (0%)]\tLoss: 0.120769\n",
            "Train Epoch: 6 [6400/60000 (11%)]\tLoss: 0.096362\n",
            "Train Epoch: 6 [12800/60000 (21%)]\tLoss: 0.064381\n",
            "Train Epoch: 6 [19200/60000 (32%)]\tLoss: 0.058542\n",
            "Train Epoch: 6 [25600/60000 (43%)]\tLoss: 0.065477\n",
            "Train Epoch: 6 [32000/60000 (53%)]\tLoss: 0.082587\n",
            "Train Epoch: 6 [38400/60000 (64%)]\tLoss: 0.113942\n",
            "Train Epoch: 6 [44800/60000 (75%)]\tLoss: 0.080520\n",
            "Train Epoch: 6 [51200/60000 (85%)]\tLoss: 0.047004\n",
            "Train Epoch: 6 [57600/60000 (96%)]\tLoss: 0.038670\n",
            "Train Epoch: 7 [0/60000 (0%)]\tLoss: 0.024559\n",
            "Train Epoch: 7 [6400/60000 (11%)]\tLoss: 0.090494\n",
            "Train Epoch: 7 [12800/60000 (21%)]\tLoss: 0.025778\n",
            "Train Epoch: 7 [19200/60000 (32%)]\tLoss: 0.077263\n",
            "Train Epoch: 7 [25600/60000 (43%)]\tLoss: 0.173129\n",
            "Train Epoch: 7 [32000/60000 (53%)]\tLoss: 0.038794\n",
            "Train Epoch: 7 [38400/60000 (64%)]\tLoss: 0.117940\n",
            "Train Epoch: 7 [44800/60000 (75%)]\tLoss: 0.151655\n",
            "Train Epoch: 7 [51200/60000 (85%)]\tLoss: 0.056529\n",
            "Train Epoch: 7 [57600/60000 (96%)]\tLoss: 0.066548\n",
            "Train Epoch: 8 [0/60000 (0%)]\tLoss: 0.105809\n",
            "Train Epoch: 8 [6400/60000 (11%)]\tLoss: 0.103843\n",
            "Train Epoch: 8 [12800/60000 (21%)]\tLoss: 0.181868\n",
            "Train Epoch: 8 [19200/60000 (32%)]\tLoss: 0.123437\n",
            "Train Epoch: 8 [25600/60000 (43%)]\tLoss: 0.031801\n",
            "Train Epoch: 8 [32000/60000 (53%)]\tLoss: 0.108314\n",
            "Train Epoch: 8 [38400/60000 (64%)]\tLoss: 0.102662\n",
            "Train Epoch: 8 [44800/60000 (75%)]\tLoss: 0.160016\n",
            "Train Epoch: 8 [51200/60000 (85%)]\tLoss: 0.081103\n",
            "Train Epoch: 8 [57600/60000 (96%)]\tLoss: 0.033295\n",
            "Train Epoch: 9 [0/60000 (0%)]\tLoss: 0.072674\n",
            "Train Epoch: 9 [6400/60000 (11%)]\tLoss: 0.050744\n",
            "Train Epoch: 9 [12800/60000 (21%)]\tLoss: 0.201001\n",
            "Train Epoch: 9 [19200/60000 (32%)]\tLoss: 0.027811\n",
            "Train Epoch: 9 [25600/60000 (43%)]\tLoss: 0.071286\n",
            "Train Epoch: 9 [32000/60000 (53%)]\tLoss: 0.068362\n",
            "Train Epoch: 9 [38400/60000 (64%)]\tLoss: 0.180435\n",
            "Train Epoch: 9 [44800/60000 (75%)]\tLoss: 0.037991\n",
            "Train Epoch: 9 [51200/60000 (85%)]\tLoss: 0.065100\n",
            "Train Epoch: 9 [57600/60000 (96%)]\tLoss: 0.041671\n"
          ]
        }
      ]
    },
    {
      "cell_type": "markdown",
      "source": [],
      "metadata": {
        "id": "EwaBctlTX6WE"
      }
    },
    {
      "cell_type": "code",
      "source": [
        "test_dataset=datasets.MNIST('data',train=False,download=True,transform=transform)\n",
        "test_loader=torch.utils.data.DataLoader(test_dataset,batch_size=1000,shuffle=True)\n",
        "correct=0\n",
        "total=0\n",
        "with torch.no_grad():\n",
        "  output=net(data)\n",
        "  _,predicted=torch.max(output.data,1)\n",
        "  total+=target.size(0)\n",
        "  correct+=(predicted==target).sum().item()"
      ],
      "metadata": {
        "id": "JWG6pDzM2VZk"
      },
      "execution_count": 11,
      "outputs": []
    },
    {
      "cell_type": "code",
      "source": [
        "print('Accuracy of the network on the 10000 test images: %d %%' % (\n",
        "    100 * correct / total))\n",
        ""
      ],
      "metadata": {
        "colab": {
          "base_uri": "https://localhost:8080/"
        },
        "id": "aiKoZjN_2bOo",
        "outputId": "025c4b23-68cc-4b17-9781-523c88df03ec"
      },
      "execution_count": 12,
      "outputs": [
        {
          "output_type": "stream",
          "name": "stdout",
          "text": [
            "Accuracy of the network on the 10000 test images: 93 %\n"
          ]
        }
      ]
    },
    {
      "cell_type": "code",
      "source": [],
      "metadata": {
        "id": "hTpA2iuz2dSZ"
      },
      "execution_count": null,
      "outputs": []
    }
  ]
}